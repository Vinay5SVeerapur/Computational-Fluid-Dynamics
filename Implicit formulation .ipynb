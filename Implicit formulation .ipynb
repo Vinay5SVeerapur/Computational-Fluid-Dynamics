{
 "cells": [
  {
   "cell_type": "code",
   "execution_count": 12,
   "metadata": {},
   "outputs": [
    {
     "name": "stdout",
     "output_type": "stream",
     "text": [
      "[[ 5.27543759]\n",
      " [ 9.94490169]\n",
      " [13.57846417]\n",
      " [15.9900308 ]\n",
      " [17.17333694]\n",
      " [17.17333694]\n",
      " [15.9900308 ]\n",
      " [13.57846417]\n",
      " [ 9.94490169]\n",
      " [ 5.27543759]]\n"
     ]
    },
    {
     "data": {
      "image/png": "[encoded data removed]",
      "text/plain": [
       "<Figure size 432x288 with 1 Axes>"
      ]
     },
     "metadata": {
      "needs_background": "light"
     },
     "output_type": "display_data"
    }
   ],
   "source": [
    "import numpy as np\n",
    "import matplotlib.pyplot as plt\n",
    "from numpy.linalg import inv\n",
    "k=385                            #Conductivity\n",
    "density=8960                        #Density\n",
    "cp=390.0                              #Specific Heat\n",
    "alpha=k/density/cp                #Alfa Value Calculated\n",
    "deltax=0.05                        #Cell Volume Calculated\n",
    "deltat=0.003                    #Time Increment\n",
    "beta=alpha*deltat/(deltax**2)     #Beta value Calculated \n",
    "nodes=10                          #Number of Nodes we want\n",
    "Time=100                            #Total End time\n",
    "def EquationSolver(q,w):          #Function for solving the equations\n",
    "    Nextstep=np.dot(inv(q),w)\n",
    "    return Nextstep\n",
    "q=np.zeros((nodes,nodes))         #The Main matrix Initialized\n",
    "w=np.zeros((nodes,1))             #Co-Efficient matrix Initiallized\n",
    "for i in range(nodes):            #For Loop for Value Initialization\n",
    "    if i==0:                      #for the Left node\n",
    "        q[i][i]=(1+(2*beta))\n",
    "        q[i][i+1]=-1*beta\n",
    "    if i==nodes-1:               #for right node\n",
    "        q[i][i]=(1+(2*beta))\n",
    "        q[i][i-1]=-1*beta\n",
    "    if i>0 and i<nodes-1:        #for central nodes\n",
    "        q[i][i]=(1+(2*beta))\n",
    "        q[i][i-1]=-1*beta\n",
    "        q[i][i+1]=-1*beta             \n",
    "for i in range(nodes):           #Temperature Profile Initialization\n",
    "    w[i][0]=20\n",
    "time=0   #The starting time\n",
    "plt.plot(w)\n",
    "while(time<Time):                #Step Solution Finding\n",
    "    time+=deltat                 #Increment\n",
    "    w=EquationSolver(q,w)        #Function call EquationSolver\n",
    "    #plt.plot(w)                  #Plotting solution at each step\n",
    "plt.plot(w)                      #Ploting the Final Solution\n",
    "#print(w)                         #Printing the Final Solution\n",
    "#plt.show()                     \n",
    "#Sol1                             #Deltat1\n",
    "#Sol2                             #Delta0.1\n",
    "#Sol3                             #Delta0.01\n",
    "#Sol4                             #Delta0.001\n",
    "#Sol5                             #Delta0.0001\n",
    "Sol6=w                           #Delta0.00001\n",
    "#print(\"Delta 1 \\n\",Sol1)\n",
    "#print(\"Delta 0.1 \\n\",Sol2)\n",
    "#print(\"Delta 0.01 \\n\",Sol3)\n",
    "#print(\"Delta 0.001 \\n\",Sol4)\n",
    "#print(\"Delta 0.0001 \\n\",Sol5)\n",
    "#print(\"Delta 0.00001 \\n\",Sol6)\n",
    "print(w)\n",
    "#The observation is that as the Increment in the time is reduced \n",
    "#and the number of iterations is increased the accuracy of the solution\n",
    "#is increasing, and the variation in the results is reducing\n",
    "#if the Delta Time is increased solution is having a lot of variation."
   ]
  }
 ],
 "metadata": {
  "kernelspec": {
   "display_name": "Python 3",
   "language": "python",
   "name": "python3"
  },
  "language_info": {
   "codemirror_mode": {
    "name": "ipython",
    "version": 3
   },
   "file_extension": ".py",
   "mimetype": "text/x-python",
   "name": "python",
   "nbconvert_exporter": "python",
   "pygments_lexer": "ipython3",
   "version": "3.7.4"
  }
 },
 "nbformat": 4,
 "nbformat_minor": 2
}
