{
 "cells": [
  {
   "cell_type": "code",
   "execution_count": 17,
   "metadata": {
    "scrolled": true
   },
   "outputs": [
    {
     "name": "stdout",
     "output_type": "stream",
     "text": [
      "The coefficient is positive :  0.9997355769230769\n",
      "Total Elapsed time:  0.987026099999639 Seconds\n",
      "0.00013221153846153843\n",
      "[[ 5.27504697]\n",
      " [ 9.94419558]\n",
      " [13.57761925]\n",
      " [15.98921499]\n",
      " [17.17262432]\n",
      " [17.17269656]\n",
      " [15.98938523]\n",
      " [13.57778016]\n",
      " [ 9.9442585 ]\n",
      " [ 5.27501946]]\n"
     ]
    },
    {
     "data": {
      "text/plain": [
       "[<matplotlib.lines.Line2D at 0xbd0350>]"
      ]
     },
     "execution_count": 17,
     "metadata": {},
     "output_type": "execute_result"
    },
    {
     "data": {
      "image/png": "[encoded data removed]",
      "text/plain": [
       "<Figure size 432x288 with 1 Axes>"
      ]
     },
     "metadata": {
      "needs_background": "light"
     },
     "output_type": "display_data"
    }
   ],
   "source": [
    "import numpy as np\n",
    "from timeit import default_timer as timer\n",
    "import matplotlib.pyplot as plt\n",
    "from numpy.linalg import inv\n",
    "#fig=plt.figure(figsize=(10,4)) \n",
    "DelTime=0.003                       #Time Increment\n",
    "density=8960                          #Density \n",
    "Cp=390.0                                #Specific Heat\n",
    "conductivity=385                   #Conductivity\n",
    "DelVolume=0.05                       #Cell length\n",
    "nodenumbers=10                      #Total nodes\n",
    "Time=100                              #Final time\n",
    "Nodes=np.zeros((nodenumbers,1))     #Main Matrix Initialization\n",
    "alfa=conductivity/density/Cp        #ALfa value calculation\n",
    "beeta=alfa*DelTime/DelVolume**2     #Beta Value calculation\n",
    "Solutions=[]                        #Matrix for solution storage\n",
    "TimeStart=timer()                   \n",
    "if 1-(2*beeta)<0:\n",
    "    print(\"This is not allowed, NEGATIVE coefficient\",1-(2*beeta))\n",
    "    print(\"Please change the time interval\")\n",
    "else:\n",
    "    print(\"The coefficient is positive : \",1-(2*beeta))\n",
    "#providing the initial temperature profile\n",
    "time=0                              #Time Start\n",
    "for i in range(nodenumbers):        #Temperature initialization\n",
    "    Nodes[i][0]=20\n",
    "plt.plot(Nodes)                     \n",
    "time = 0                            \n",
    "iteration=1                         #Counter variable \n",
    "while(time<Time):\n",
    "    time+=DelTime                   #time increment statement\n",
    "    for i in range(nodenumbers):    #for loop for calculation \n",
    "        if i == 0:                  #Left nodes\n",
    "            Nodes[i][0]=(beeta*Nodes[i+1][0])+((1-(2*beeta))*Nodes[i][0])+(beeta*0)\n",
    "        if i == int(nodenumbers-1): #Right nodes\n",
    "            Nodes[i][0]=(beeta*0)+((1-(2*beeta))*Nodes[i][0])+(beeta*Nodes[i-1][0])\n",
    "        if i > 0 and i < (nodenumbers-1):  #Central Nodes  \n",
    "            Nodes[i][0]=(beeta*Nodes[i+1][0])+((1-(2*beeta))*Nodes[i][0])+(beeta*Nodes[i-1][0])    \n",
    "    Solutions.append(Nodes)         #Solution appended after every iteration\n",
    "    #plt.plot(Nodes)\n",
    "    iteration+=1                    #counter incremented\n",
    "end=timer()\n",
    "#print(Nodes)\n",
    "print(\"Total Elapsed time: \", end-TimeStart,\"Seconds\")\n",
    "#plt.savefig('books_read.png')\n",
    "print(beeta)\n",
    "print(Nodes)\n",
    "plt.plot(Nodes)\n",
    "#Sol1                                #solution for Beta 1\n",
    "#Sol2                                #Solution for Beta 2\n",
    "#Sol3                                #Solution for beta 3\n",
    "#Sol4                                #Solution for Beta 4\n",
    "#print(\"Beta=0.15104761904 Deltime = 0.01\\n\",Sol1) \n",
    "#print(\"Beta=0.13594287142871 Deltime =0.009 \\n\",Sol2)\n",
    "#print(\"Beta=0.12083809523809524 deltime = 0.008\\n\",Sol4)\n",
    "#print(\"Beta=0.0453142857142 deltime =0.003 \\n\",Sol3)"
   ]
  },
  {
   "cell_type": "code",
   "execution_count": 4,
   "metadata": {},
   "outputs": [
    {
     "data": {
      "text/plain": [
       "3.3983263242852894e-13"
      ]
     },
     "execution_count": 4,
     "metadata": {},
     "output_type": "execute_result"
    }
   ],
   "source": [
    "beeta"
   ]
  },
  {
   "cell_type": "code",
   "execution_count": null,
   "metadata": {},
   "outputs": [],
   "source": []
  }
 ],
 "metadata": {
  "kernelspec": {
   "display_name": "Python 3",
   "language": "python",
   "name": "python3"
  },
  "language_info": {
   "codemirror_mode": {
    "name": "ipython",
    "version": 3
   },
   "file_extension": ".py",
   "mimetype": "text/x-python",
   "name": "python",
   "nbconvert_exporter": "python",
   "pygments_lexer": "ipython3",
   "version": "3.7.4"
  }
 },
 "nbformat": 4,
 "nbformat_minor": 2
}
